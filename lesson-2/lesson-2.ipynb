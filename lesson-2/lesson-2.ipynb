{
 "cells": [
  {
   "metadata": {},
   "cell_type": "markdown",
   "source": [
    "## 练习1\n",
    "读入用户从键盘输入的一行字符，请编程统计并输出其中包含的英文字符、数字字符、空格和其他字符的个数"
   ],
   "id": "940f82c572eba2ae"
  },
  {
   "metadata": {
    "ExecuteTime": {
     "end_time": "2025-03-12T00:34:17.591861Z",
     "start_time": "2025-03-12T00:34:07.701920Z"
    }
   },
   "cell_type": "code",
   "source": [
    "\n",
    "def countchar(s):\n",
    "    letters = digits = spaces = others = 0\n",
    "    for char in s:\n",
    "        if char.isalpha():\n",
    "            letters += 1\n",
    "        elif char.isdigit():\n",
    "            digits += 1\n",
    "        elif char.isspace():\n",
    "            spaces += 1\n",
    "        else:\n",
    "            others += 1\n",
    "    print(letters, digits, spaces, others)\n",
    "\n",
    "s = input(\"请输入一行字符: \")\n",
    "countchar(s)\n",
    "\n"
   ],
   "id": "acf0e1d28d1dfa36",
   "outputs": [
    {
     "name": "stdout",
     "output_type": "stream",
     "text": [
      "7 2 6 7\n"
     ]
    }
   ],
   "execution_count": 1
  },
  {
   "metadata": {},
   "cell_type": "markdown",
   "source": [
    "## 练习2\n",
    "读入用户从键盘输入的两个整数，请编程求出\n",
    "这两个整数的最大公约数和最小公倍数\n"
   ],
   "id": "50feb09550ab5609"
  },
  {
   "metadata": {
    "ExecuteTime": {
     "end_time": "2025-03-12T00:44:02.464787Z",
     "start_time": "2025-03-12T00:43:58.196131Z"
    }
   },
   "cell_type": "code",
   "source": [
    "import math\n",
    "def maxmin(num1,num2):\n",
    "    gys=math.gcd(num1,num2)\n",
    "    gps=abs(num1*num2)//gys\n",
    "    return gys,gps\n",
    "\n",
    "a, b = map(int, input(\"请输入两个整数，以空格分隔: \").split())\n",
    "gys,gps = maxmin(a,b)\n",
    "print(f\"最大公约数:{gys}\")\n",
    "print(f\"最小公倍数公约数:{gps}\")\n"
   ],
   "id": "80a1b0ec901e4354",
   "outputs": [
    {
     "name": "stdout",
     "output_type": "stream",
     "text": [
      "最大公约数:2\n",
      "最小公倍数公约数:30\n"
     ]
    }
   ],
   "execution_count": 5
  },
  {
   "metadata": {},
   "cell_type": "markdown",
   "source": [
    "## 练习3\n",
    "假设N是一任意自然数，如果它的各位数字反\n",
    "向排列得到的自然数与N相等，则它被称是\n",
    "回文数。\n",
    "请从键盘输入一个5位的数字，然后编程判断\n",
    "它是不是回文数。\n"
   ],
   "id": "6d4ff09742d6f993"
  },
  {
   "metadata": {
    "ExecuteTime": {
     "end_time": "2025-03-12T00:43:13.559767Z",
     "start_time": "2025-03-12T00:43:09.664687Z"
    }
   },
   "cell_type": "code",
   "source": [
    "def isnumber(n):\n",
    "    d1 = n // 10000\n",
    "    d2 = (n // 1000) % 10\n",
    "    d4 = (n // 10) % 10\n",
    "    d5 = n % 10\n",
    "    return d1 == d5 and d2 == d4\n",
    "\n",
    "num = input(\"请输入一个 5 位数字: \")\n",
    "if len(num) == 5:\n",
    "    if isnumber(int(num)):\n",
    "        print(f\"{num} 是回文数\")\n",
    "    else:\n",
    "        print(f\"{num} 不是回文数\")\n",
    "else:\n",
    "    print(\"请输入正确的 5 位数字！\")"
   ],
   "id": "31a2c8bf4437839b",
   "outputs": [
    {
     "name": "stdout",
     "output_type": "stream",
     "text": [
      "12321 是回文数\n"
     ]
    }
   ],
   "execution_count": 4
  },
  {
   "metadata": {},
   "cell_type": "markdown",
   "source": [
    "## 练习4\n",
    "汉诺塔问题描述为如何将所有盘子从A移动到\n",
    "C（借助B），请编写一个汉诺塔的移动函数\n",
    "，采用递归方式解决。输入是汉诺塔的层数，\n",
    "输出是完整的移动过程"
   ],
   "id": "ed7df69e0b4c3091"
  },
  {
   "metadata": {
    "ExecuteTime": {
     "end_time": "2025-03-12T00:52:19.263092Z",
     "start_time": "2025-03-12T00:52:17.443881Z"
    }
   },
   "cell_type": "code",
   "source": [
    "def hanoi(n, source, mid, target):\n",
    "    if n == 1:\n",
    "        print(f\"移动盘子 1: {source} => {target}\")\n",
    "    else:\n",
    "        hanoi(n - 1, source, target, mid)\n",
    "        print(f\"移动盘子 {n}: {source} => {target}\")\n",
    "        hanoi(n - 1, mid, source, target)\n",
    "\n",
    "# 读取用户输入\n",
    "n = int(input(\"请输入汉诺塔的层数: \"))\n",
    "\n",
    "# 运行汉诺塔递归函数\n",
    "hanoi(n, 'A', 'B', 'C')"
   ],
   "id": "596c3e9e627ce277",
   "outputs": [
    {
     "name": "stdout",
     "output_type": "stream",
     "text": [
      "移动盘子 1: A => C\n",
      "移动盘子 2: A => B\n",
      "移动盘子 1: C => B\n",
      "移动盘子 3: A => C\n",
      "移动盘子 1: B => A\n",
      "移动盘子 2: B => C\n",
      "移动盘子 1: A => C\n"
     ]
    }
   ],
   "execution_count": 8
  }
 ],
 "metadata": {
  "kernelspec": {
   "display_name": "Python 3",
   "language": "python",
   "name": "python3"
  },
  "language_info": {
   "codemirror_mode": {
    "name": "ipython",
    "version": 2
   },
   "file_extension": ".py",
   "mimetype": "text/x-python",
   "name": "python",
   "nbconvert_exporter": "python",
   "pygments_lexer": "ipython2",
   "version": "2.7.6"
  }
 },
 "nbformat": 4,
 "nbformat_minor": 5
}
