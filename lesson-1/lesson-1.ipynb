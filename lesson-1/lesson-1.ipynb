{
 "cells": [
  {
   "metadata": {},
   "cell_type": "markdown",
   "source": "### 练习1",
   "id": "b231b833134bf1ab"
  },
  {
   "metadata": {},
   "cell_type": "code",
   "outputs": [],
   "execution_count": null,
   "source": [
    "grade = int(input(\"请输入你的成绩: \"))\n",
    "if 100 >= grade >= 90:\n",
    "    print(\"你的成绩为A\")\n",
    "elif 89 >= grade >= 70:\n",
    "    print(\"你的成绩为B\")\n",
    "elif 69 >= grade >= 60:\n",
    "    print(\"你的成绩为C\")\n",
    "elif 59 >= grade >= 0:\n",
    "    print(\"你的成绩为C\")\n",
    "else:\n",
    "    print(\"你输入的成绩无效\")\n"
   ],
   "id": "6d991d34e9904234"
  },
  {
   "metadata": {},
   "cell_type": "markdown",
   "source": "### 练习2",
   "id": "539c2f9db776e16e"
  },
  {
   "metadata": {
    "ExecuteTime": {
     "end_time": "2025-02-26T00:35:53.261393Z",
     "start_time": "2025-02-26T00:35:48.876410Z"
    }
   },
   "cell_type": "code",
   "source": [
    "def prime_factors(n):\n",
    "    factors = []\n",
    "    while n % 2 == 0:\n",
    "        factors.append(2)\n",
    "        n //= 2\n",
    "    factor = 3\n",
    "    while factor * factor <= n:\n",
    "        while n % factor == 0:\n",
    "            factors.append(factor)\n",
    "            n //= factor\n",
    "        factor += 2\n",
    "    if n > 2:\n",
    "        factors.append(n)\n",
    "\n",
    "    return factors\n",
    "\n",
    "num = int(input(\"请输入一个正整数：\"))\n",
    "factors = prime_factors(num)\n",
    "\n",
    "result = f\"{num}=\" + \"*\".join(map(str, factors))\n",
    "print(result)"
   ],
   "id": "5b2e1a61a6c7d1e7",
   "outputs": [
    {
     "name": "stdout",
     "output_type": "stream",
     "text": [
      "100=2*2*5*5\n"
     ]
    }
   ],
   "execution_count": 6
  },
  {
   "metadata": {},
   "cell_type": "markdown",
   "source": "### 练习3",
   "id": "1b237f406c0588f"
  },
  {
   "metadata": {
    "ExecuteTime": {
     "end_time": "2025-02-26T00:38:46.899005Z",
     "start_time": "2025-02-26T00:38:46.896013Z"
    }
   },
   "cell_type": "code",
   "source": [
    "def back(n):\n",
    "    if n==1: return 1\n",
    "    return back(n-1)*n\n",
    "sum=0\n",
    "for i in range(1, 11):\n",
    "    sum+=back(i)\n",
    "print(sum)"
   ],
   "id": "279b8529f12b9b4b",
   "outputs": [
    {
     "name": "stdout",
     "output_type": "stream",
     "text": [
      "4037913\n"
     ]
    }
   ],
   "execution_count": 12
  },
  {
   "metadata": {},
   "cell_type": "markdown",
   "source": "### 练习4",
   "id": "21baac16e8d1937c"
  },
  {
   "metadata": {
    "ExecuteTime": {
     "end_time": "2025-02-26T00:43:28.553404Z",
     "start_time": "2025-02-26T00:43:28.547577Z"
    }
   },
   "cell_type": "code",
   "source": [
    "def generate(current, numbers, result):\n",
    "    if len(current) == 3:\n",
    "        result.append(\"\".join(map(str, current)))\n",
    "        return\n",
    "\n",
    "    for num in numbers:\n",
    "        if num not in current:\n",
    "            generate(current + [num], numbers, result)\n",
    "\n",
    "\n",
    "numbers = [1, 2, 3, 4]\n",
    "result = []\n",
    "\n",
    "generate([], numbers, result)\n",
    "\n",
    "\n",
    "result.sort()\n",
    "for number in result:\n",
    "    print(number)"
   ],
   "id": "71fe910cb089795",
   "outputs": [
    {
     "name": "stdout",
     "output_type": "stream",
     "text": [
      "123\n",
      "124\n",
      "132\n",
      "134\n",
      "142\n",
      "143\n",
      "213\n",
      "214\n",
      "231\n",
      "234\n",
      "241\n",
      "243\n",
      "312\n",
      "314\n",
      "321\n",
      "324\n",
      "341\n",
      "342\n",
      "412\n",
      "413\n",
      "421\n",
      "423\n",
      "431\n",
      "432\n"
     ]
    }
   ],
   "execution_count": 13
  },
  {
   "metadata": {},
   "cell_type": "markdown",
   "source": "### 练习5",
   "id": "a5eef0cbb464ada4"
  },
  {
   "metadata": {
    "ExecuteTime": {
     "end_time": "2025-02-26T00:52:03.943926Z",
     "start_time": "2025-02-26T00:52:01.748380Z"
    }
   },
   "cell_type": "code",
   "source": [
    "# import math\n",
    "from math import e, sin, log, pow\n",
    "def get_y(x):\n",
    "    if x >= 0:\n",
    "        return sin(x) + 2 * (x + pow(e, 4))**0.5 - pow((x + 1), 3)\n",
    "    else:\n",
    "        return log(-5 * x, e)+abs(pow(x,2)-8*x)/7*x+e\n",
    "\n",
    "x = float(input(\"请输入 x 的值：\"))\n",
    "y = get_y(x)\n",
    "print(f\"y = {y}\")"
   ],
   "id": "921be0d0e99be0b4",
   "outputs": [
    {
     "name": "stdout",
     "output_type": "stream",
     "text": [
      "y = 13.778112197861299\n"
     ]
    }
   ],
   "execution_count": 15
  },
  {
   "metadata": {},
   "cell_type": "markdown",
   "source": "### 练习6",
   "id": "df0afbd920350f4c"
  },
  {
   "metadata": {
    "ExecuteTime": {
     "end_time": "2025-02-26T00:54:01.257009Z",
     "start_time": "2025-02-26T00:54:01.253023Z"
    }
   },
   "cell_type": "code",
   "source": [
    "import math\n",
    "\n",
    "def get_e():\n",
    "    result = 1\n",
    "    n = 1\n",
    "    while True:\n",
    "        term = 1 / math.factorial(n)\n",
    "        if term < 1e-6:\n",
    "            break\n",
    "        result += term\n",
    "        n += 1\n",
    "    return result\n",
    "\n",
    "e_value = get_e()\n",
    "print(f\"近似计算得到的 e 的值为：{e_value}\")"
   ],
   "id": "c572c93e865ad52b",
   "outputs": [
    {
     "name": "stdout",
     "output_type": "stream",
     "text": [
      "近似计算得到的 e 的值为：2.7182815255731922\n"
     ]
    }
   ],
   "execution_count": 17
  },
  {
   "metadata": {},
   "cell_type": "markdown",
   "source": "",
   "id": "ee131c1a3219eeb"
  }
 ],
 "metadata": {
  "kernelspec": {
   "display_name": "Python 3",
   "language": "python",
   "name": "python3"
  },
  "language_info": {
   "codemirror_mode": {
    "name": "ipython",
    "version": 2
   },
   "file_extension": ".py",
   "mimetype": "text/x-python",
   "name": "python",
   "nbconvert_exporter": "python",
   "pygments_lexer": "ipython2",
   "version": "2.7.6"
  }
 },
 "nbformat": 4,
 "nbformat_minor": 5
}
